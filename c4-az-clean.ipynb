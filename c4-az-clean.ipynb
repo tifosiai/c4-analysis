{
 "cells": [
  {
   "cell_type": "code",
   "execution_count": 1,
   "id": "73c3bf88-8d12-466a-9e73-c201fbe60382",
   "metadata": {},
   "outputs": [
    {
     "data": {
      "application/vnd.jupyter.widget-view+json": {
       "model_id": "7d302de541cd49d29f15b654a1150cfe",
       "version_major": 2,
       "version_minor": 0
      },
      "text/plain": [
       "Resolving data files:   0%|          | 0/1024 [00:00<?, ?it/s]"
      ]
     },
     "metadata": {},
     "output_type": "display_data"
    },
    {
     "data": {
      "application/vnd.jupyter.widget-view+json": {
       "model_id": "d5c069226aa046e5b0fcdfdae3560bcc",
       "version_major": 2,
       "version_minor": 0
      },
      "text/plain": [
       "Resolving data files:   0%|          | 0/256 [00:00<?, ?it/s]"
      ]
     },
     "metadata": {},
     "output_type": "display_data"
    },
    {
     "data": {
      "application/vnd.jupyter.widget-view+json": {
       "model_id": "2338d70bef384a44ad9f1642f74fe255",
       "version_major": 2,
       "version_minor": 0
      },
      "text/plain": [
       "Loading dataset shards:   0%|          | 0/34 [00:00<?, ?it/s]"
      ]
     },
     "metadata": {},
     "output_type": "display_data"
    },
    {
     "name": "stderr",
     "output_type": "stream",
     "text": [
      "Processing train: 100%|████████████| 5285720/5285720 [04:34<00:00, 19260.64it/s]\n",
      "Processing validation: 100%|█████████████| 5239/5239 [00:00<00:00, 18803.00it/s]\n"
     ]
    },
    {
     "name": "stdout",
     "output_type": "stream",
     "text": [
      "Sentence count with traditional load method:  146936849\n",
      "Downloading file 0 from https://huggingface.co/api/datasets/allenai/c4/parquet/az/train/0.parquet\n"
     ]
    },
    {
     "ename": "KeyboardInterrupt",
     "evalue": "",
     "output_type": "error",
     "traceback": [
      "\u001b[0;31m---------------------------------------------------------------------------\u001b[0m",
      "\u001b[0;31mKeyboardInterrupt\u001b[0m                         Traceback (most recent call last)",
      "Cell \u001b[0;32mIn[1], line 47\u001b[0m\n\u001b[1;32m     44\u001b[0m     \u001b[38;5;28;01mreturn\u001b[39;00m temp_file\n\u001b[1;32m     46\u001b[0m \u001b[38;5;66;03m# Download and load all Parquet files\u001b[39;00m\n\u001b[0;32m---> 47\u001b[0m parquet_files \u001b[38;5;241m=\u001b[39m [download_and_load_parquet(url, index) \u001b[38;5;28;01mfor\u001b[39;00m index, url \u001b[38;5;129;01min\u001b[39;00m \u001b[38;5;28menumerate\u001b[39m(urls)]\n\u001b[1;32m     49\u001b[0m \u001b[38;5;66;03m# Load Parquet files as a dataset\u001b[39;00m\n\u001b[1;32m     50\u001b[0m new_dataset \u001b[38;5;241m=\u001b[39m load_dataset(\u001b[38;5;124m\"\u001b[39m\u001b[38;5;124mparquet\u001b[39m\u001b[38;5;124m\"\u001b[39m, data_files\u001b[38;5;241m=\u001b[39m{\u001b[38;5;124m'\u001b[39m\u001b[38;5;124mtrain\u001b[39m\u001b[38;5;124m'\u001b[39m: parquet_files})\n",
      "Cell \u001b[0;32mIn[1], line 47\u001b[0m, in \u001b[0;36m<listcomp>\u001b[0;34m(.0)\u001b[0m\n\u001b[1;32m     44\u001b[0m     \u001b[38;5;28;01mreturn\u001b[39;00m temp_file\n\u001b[1;32m     46\u001b[0m \u001b[38;5;66;03m# Download and load all Parquet files\u001b[39;00m\n\u001b[0;32m---> 47\u001b[0m parquet_files \u001b[38;5;241m=\u001b[39m [download_and_load_parquet(url, index) \u001b[38;5;28;01mfor\u001b[39;00m index, url \u001b[38;5;129;01min\u001b[39;00m \u001b[38;5;28menumerate\u001b[39m(urls)]\n\u001b[1;32m     49\u001b[0m \u001b[38;5;66;03m# Load Parquet files as a dataset\u001b[39;00m\n\u001b[1;32m     50\u001b[0m new_dataset \u001b[38;5;241m=\u001b[39m load_dataset(\u001b[38;5;124m\"\u001b[39m\u001b[38;5;124mparquet\u001b[39m\u001b[38;5;124m\"\u001b[39m, data_files\u001b[38;5;241m=\u001b[39m{\u001b[38;5;124m'\u001b[39m\u001b[38;5;124mtrain\u001b[39m\u001b[38;5;124m'\u001b[39m: parquet_files})\n",
      "Cell \u001b[0;32mIn[1], line 39\u001b[0m, in \u001b[0;36mdownload_and_load_parquet\u001b[0;34m(url, index)\u001b[0m\n\u001b[1;32m     37\u001b[0m \u001b[38;5;28;01mdef\u001b[39;00m \u001b[38;5;21mdownload_and_load_parquet\u001b[39m(url, index):\n\u001b[1;32m     38\u001b[0m     \u001b[38;5;28mprint\u001b[39m(\u001b[38;5;124mf\u001b[39m\u001b[38;5;124m\"\u001b[39m\u001b[38;5;124mDownloading file \u001b[39m\u001b[38;5;132;01m{\u001b[39;00mindex\u001b[38;5;132;01m}\u001b[39;00m\u001b[38;5;124m from \u001b[39m\u001b[38;5;132;01m{\u001b[39;00murl\u001b[38;5;132;01m}\u001b[39;00m\u001b[38;5;124m\"\u001b[39m)\n\u001b[0;32m---> 39\u001b[0m     response \u001b[38;5;241m=\u001b[39m requests\u001b[38;5;241m.\u001b[39mget(url)\n\u001b[1;32m     40\u001b[0m     response\u001b[38;5;241m.\u001b[39mraise_for_status()  \u001b[38;5;66;03m# Ensure we raise an error for bad status\u001b[39;00m\n\u001b[1;32m     41\u001b[0m     temp_file \u001b[38;5;241m=\u001b[39m \u001b[38;5;124mf\u001b[39m\u001b[38;5;124m'\u001b[39m\u001b[38;5;124mtemp_\u001b[39m\u001b[38;5;132;01m{\u001b[39;00mindex\u001b[38;5;132;01m}\u001b[39;00m\u001b[38;5;124m.parquet\u001b[39m\u001b[38;5;124m'\u001b[39m\n",
      "File \u001b[0;32m~/anaconda3/lib/python3.11/site-packages/requests/api.py:73\u001b[0m, in \u001b[0;36mget\u001b[0;34m(url, params, **kwargs)\u001b[0m\n\u001b[1;32m     62\u001b[0m \u001b[38;5;28;01mdef\u001b[39;00m \u001b[38;5;21mget\u001b[39m(url, params\u001b[38;5;241m=\u001b[39m\u001b[38;5;28;01mNone\u001b[39;00m, \u001b[38;5;241m*\u001b[39m\u001b[38;5;241m*\u001b[39mkwargs):\n\u001b[1;32m     63\u001b[0m \u001b[38;5;250m    \u001b[39m\u001b[38;5;124mr\u001b[39m\u001b[38;5;124;03m\"\"\"Sends a GET request.\u001b[39;00m\n\u001b[1;32m     64\u001b[0m \n\u001b[1;32m     65\u001b[0m \u001b[38;5;124;03m    :param url: URL for the new :class:`Request` object.\u001b[39;00m\n\u001b[0;32m   (...)\u001b[0m\n\u001b[1;32m     70\u001b[0m \u001b[38;5;124;03m    :rtype: requests.Response\u001b[39;00m\n\u001b[1;32m     71\u001b[0m \u001b[38;5;124;03m    \"\"\"\u001b[39;00m\n\u001b[0;32m---> 73\u001b[0m     \u001b[38;5;28;01mreturn\u001b[39;00m request(\u001b[38;5;124m\"\u001b[39m\u001b[38;5;124mget\u001b[39m\u001b[38;5;124m\"\u001b[39m, url, params\u001b[38;5;241m=\u001b[39mparams, \u001b[38;5;241m*\u001b[39m\u001b[38;5;241m*\u001b[39mkwargs)\n",
      "File \u001b[0;32m~/anaconda3/lib/python3.11/site-packages/requests/api.py:59\u001b[0m, in \u001b[0;36mrequest\u001b[0;34m(method, url, **kwargs)\u001b[0m\n\u001b[1;32m     55\u001b[0m \u001b[38;5;66;03m# By using the 'with' statement we are sure the session is closed, thus we\u001b[39;00m\n\u001b[1;32m     56\u001b[0m \u001b[38;5;66;03m# avoid leaving sockets open which can trigger a ResourceWarning in some\u001b[39;00m\n\u001b[1;32m     57\u001b[0m \u001b[38;5;66;03m# cases, and look like a memory leak in others.\u001b[39;00m\n\u001b[1;32m     58\u001b[0m \u001b[38;5;28;01mwith\u001b[39;00m sessions\u001b[38;5;241m.\u001b[39mSession() \u001b[38;5;28;01mas\u001b[39;00m session:\n\u001b[0;32m---> 59\u001b[0m     \u001b[38;5;28;01mreturn\u001b[39;00m session\u001b[38;5;241m.\u001b[39mrequest(method\u001b[38;5;241m=\u001b[39mmethod, url\u001b[38;5;241m=\u001b[39murl, \u001b[38;5;241m*\u001b[39m\u001b[38;5;241m*\u001b[39mkwargs)\n",
      "File \u001b[0;32m~/anaconda3/lib/python3.11/site-packages/requests/sessions.py:589\u001b[0m, in \u001b[0;36mSession.request\u001b[0;34m(self, method, url, params, data, headers, cookies, files, auth, timeout, allow_redirects, proxies, hooks, stream, verify, cert, json)\u001b[0m\n\u001b[1;32m    584\u001b[0m send_kwargs \u001b[38;5;241m=\u001b[39m {\n\u001b[1;32m    585\u001b[0m     \u001b[38;5;124m\"\u001b[39m\u001b[38;5;124mtimeout\u001b[39m\u001b[38;5;124m\"\u001b[39m: timeout,\n\u001b[1;32m    586\u001b[0m     \u001b[38;5;124m\"\u001b[39m\u001b[38;5;124mallow_redirects\u001b[39m\u001b[38;5;124m\"\u001b[39m: allow_redirects,\n\u001b[1;32m    587\u001b[0m }\n\u001b[1;32m    588\u001b[0m send_kwargs\u001b[38;5;241m.\u001b[39mupdate(settings)\n\u001b[0;32m--> 589\u001b[0m resp \u001b[38;5;241m=\u001b[39m \u001b[38;5;28mself\u001b[39m\u001b[38;5;241m.\u001b[39msend(prep, \u001b[38;5;241m*\u001b[39m\u001b[38;5;241m*\u001b[39msend_kwargs)\n\u001b[1;32m    591\u001b[0m \u001b[38;5;28;01mreturn\u001b[39;00m resp\n",
      "File \u001b[0;32m~/anaconda3/lib/python3.11/site-packages/requests/sessions.py:725\u001b[0m, in \u001b[0;36mSession.send\u001b[0;34m(self, request, **kwargs)\u001b[0m\n\u001b[1;32m    722\u001b[0m \u001b[38;5;28;01mif\u001b[39;00m allow_redirects:\n\u001b[1;32m    723\u001b[0m     \u001b[38;5;66;03m# Redirect resolving generator.\u001b[39;00m\n\u001b[1;32m    724\u001b[0m     gen \u001b[38;5;241m=\u001b[39m \u001b[38;5;28mself\u001b[39m\u001b[38;5;241m.\u001b[39mresolve_redirects(r, request, \u001b[38;5;241m*\u001b[39m\u001b[38;5;241m*\u001b[39mkwargs)\n\u001b[0;32m--> 725\u001b[0m     history \u001b[38;5;241m=\u001b[39m [resp \u001b[38;5;28;01mfor\u001b[39;00m resp \u001b[38;5;129;01min\u001b[39;00m gen]\n\u001b[1;32m    726\u001b[0m \u001b[38;5;28;01melse\u001b[39;00m:\n\u001b[1;32m    727\u001b[0m     history \u001b[38;5;241m=\u001b[39m []\n",
      "File \u001b[0;32m~/anaconda3/lib/python3.11/site-packages/requests/sessions.py:725\u001b[0m, in \u001b[0;36m<listcomp>\u001b[0;34m(.0)\u001b[0m\n\u001b[1;32m    722\u001b[0m \u001b[38;5;28;01mif\u001b[39;00m allow_redirects:\n\u001b[1;32m    723\u001b[0m     \u001b[38;5;66;03m# Redirect resolving generator.\u001b[39;00m\n\u001b[1;32m    724\u001b[0m     gen \u001b[38;5;241m=\u001b[39m \u001b[38;5;28mself\u001b[39m\u001b[38;5;241m.\u001b[39mresolve_redirects(r, request, \u001b[38;5;241m*\u001b[39m\u001b[38;5;241m*\u001b[39mkwargs)\n\u001b[0;32m--> 725\u001b[0m     history \u001b[38;5;241m=\u001b[39m [resp \u001b[38;5;28;01mfor\u001b[39;00m resp \u001b[38;5;129;01min\u001b[39;00m gen]\n\u001b[1;32m    726\u001b[0m \u001b[38;5;28;01melse\u001b[39;00m:\n\u001b[1;32m    727\u001b[0m     history \u001b[38;5;241m=\u001b[39m []\n",
      "File \u001b[0;32m~/anaconda3/lib/python3.11/site-packages/requests/sessions.py:266\u001b[0m, in \u001b[0;36mSessionRedirectMixin.resolve_redirects\u001b[0;34m(self, resp, req, stream, timeout, verify, cert, proxies, yield_requests, **adapter_kwargs)\u001b[0m\n\u001b[1;32m    263\u001b[0m     \u001b[38;5;28;01myield\u001b[39;00m req\n\u001b[1;32m    264\u001b[0m \u001b[38;5;28;01melse\u001b[39;00m:\n\u001b[0;32m--> 266\u001b[0m     resp \u001b[38;5;241m=\u001b[39m \u001b[38;5;28mself\u001b[39m\u001b[38;5;241m.\u001b[39msend(\n\u001b[1;32m    267\u001b[0m         req,\n\u001b[1;32m    268\u001b[0m         stream\u001b[38;5;241m=\u001b[39mstream,\n\u001b[1;32m    269\u001b[0m         timeout\u001b[38;5;241m=\u001b[39mtimeout,\n\u001b[1;32m    270\u001b[0m         verify\u001b[38;5;241m=\u001b[39mverify,\n\u001b[1;32m    271\u001b[0m         cert\u001b[38;5;241m=\u001b[39mcert,\n\u001b[1;32m    272\u001b[0m         proxies\u001b[38;5;241m=\u001b[39mproxies,\n\u001b[1;32m    273\u001b[0m         allow_redirects\u001b[38;5;241m=\u001b[39m\u001b[38;5;28;01mFalse\u001b[39;00m,\n\u001b[1;32m    274\u001b[0m         \u001b[38;5;241m*\u001b[39m\u001b[38;5;241m*\u001b[39madapter_kwargs,\n\u001b[1;32m    275\u001b[0m     )\n\u001b[1;32m    277\u001b[0m     extract_cookies_to_jar(\u001b[38;5;28mself\u001b[39m\u001b[38;5;241m.\u001b[39mcookies, prepared_request, resp\u001b[38;5;241m.\u001b[39mraw)\n\u001b[1;32m    279\u001b[0m     \u001b[38;5;66;03m# extract redirect url, if any, for the next loop\u001b[39;00m\n",
      "File \u001b[0;32m~/anaconda3/lib/python3.11/site-packages/requests/sessions.py:747\u001b[0m, in \u001b[0;36mSession.send\u001b[0;34m(self, request, **kwargs)\u001b[0m\n\u001b[1;32m    744\u001b[0m         \u001b[38;5;28;01mpass\u001b[39;00m\n\u001b[1;32m    746\u001b[0m \u001b[38;5;28;01mif\u001b[39;00m \u001b[38;5;129;01mnot\u001b[39;00m stream:\n\u001b[0;32m--> 747\u001b[0m     r\u001b[38;5;241m.\u001b[39mcontent\n\u001b[1;32m    749\u001b[0m \u001b[38;5;28;01mreturn\u001b[39;00m r\n",
      "File \u001b[0;32m~/anaconda3/lib/python3.11/site-packages/requests/models.py:899\u001b[0m, in \u001b[0;36mResponse.content\u001b[0;34m(self)\u001b[0m\n\u001b[1;32m    897\u001b[0m         \u001b[38;5;28mself\u001b[39m\u001b[38;5;241m.\u001b[39m_content \u001b[38;5;241m=\u001b[39m \u001b[38;5;28;01mNone\u001b[39;00m\n\u001b[1;32m    898\u001b[0m     \u001b[38;5;28;01melse\u001b[39;00m:\n\u001b[0;32m--> 899\u001b[0m         \u001b[38;5;28mself\u001b[39m\u001b[38;5;241m.\u001b[39m_content \u001b[38;5;241m=\u001b[39m \u001b[38;5;124mb\u001b[39m\u001b[38;5;124m\"\u001b[39m\u001b[38;5;124m\"\u001b[39m\u001b[38;5;241m.\u001b[39mjoin(\u001b[38;5;28mself\u001b[39m\u001b[38;5;241m.\u001b[39miter_content(CONTENT_CHUNK_SIZE)) \u001b[38;5;129;01mor\u001b[39;00m \u001b[38;5;124mb\u001b[39m\u001b[38;5;124m\"\u001b[39m\u001b[38;5;124m\"\u001b[39m\n\u001b[1;32m    901\u001b[0m \u001b[38;5;28mself\u001b[39m\u001b[38;5;241m.\u001b[39m_content_consumed \u001b[38;5;241m=\u001b[39m \u001b[38;5;28;01mTrue\u001b[39;00m\n\u001b[1;32m    902\u001b[0m \u001b[38;5;66;03m# don't need to release the connection; that's been handled by urllib3\u001b[39;00m\n\u001b[1;32m    903\u001b[0m \u001b[38;5;66;03m# since we exhausted the data.\u001b[39;00m\n",
      "File \u001b[0;32m~/anaconda3/lib/python3.11/site-packages/requests/models.py:816\u001b[0m, in \u001b[0;36mResponse.iter_content.<locals>.generate\u001b[0;34m()\u001b[0m\n\u001b[1;32m    814\u001b[0m \u001b[38;5;28;01mif\u001b[39;00m \u001b[38;5;28mhasattr\u001b[39m(\u001b[38;5;28mself\u001b[39m\u001b[38;5;241m.\u001b[39mraw, \u001b[38;5;124m\"\u001b[39m\u001b[38;5;124mstream\u001b[39m\u001b[38;5;124m\"\u001b[39m):\n\u001b[1;32m    815\u001b[0m     \u001b[38;5;28;01mtry\u001b[39;00m:\n\u001b[0;32m--> 816\u001b[0m         \u001b[38;5;28;01myield from\u001b[39;00m \u001b[38;5;28mself\u001b[39m\u001b[38;5;241m.\u001b[39mraw\u001b[38;5;241m.\u001b[39mstream(chunk_size, decode_content\u001b[38;5;241m=\u001b[39m\u001b[38;5;28;01mTrue\u001b[39;00m)\n\u001b[1;32m    817\u001b[0m     \u001b[38;5;28;01mexcept\u001b[39;00m ProtocolError \u001b[38;5;28;01mas\u001b[39;00m e:\n\u001b[1;32m    818\u001b[0m         \u001b[38;5;28;01mraise\u001b[39;00m ChunkedEncodingError(e)\n",
      "File \u001b[0;32m~/anaconda3/lib/python3.11/site-packages/urllib3/response.py:936\u001b[0m, in \u001b[0;36mHTTPResponse.stream\u001b[0;34m(self, amt, decode_content)\u001b[0m\n\u001b[1;32m    934\u001b[0m \u001b[38;5;28;01melse\u001b[39;00m:\n\u001b[1;32m    935\u001b[0m     \u001b[38;5;28;01mwhile\u001b[39;00m \u001b[38;5;129;01mnot\u001b[39;00m is_fp_closed(\u001b[38;5;28mself\u001b[39m\u001b[38;5;241m.\u001b[39m_fp) \u001b[38;5;129;01mor\u001b[39;00m \u001b[38;5;28mlen\u001b[39m(\u001b[38;5;28mself\u001b[39m\u001b[38;5;241m.\u001b[39m_decoded_buffer) \u001b[38;5;241m>\u001b[39m \u001b[38;5;241m0\u001b[39m:\n\u001b[0;32m--> 936\u001b[0m         data \u001b[38;5;241m=\u001b[39m \u001b[38;5;28mself\u001b[39m\u001b[38;5;241m.\u001b[39mread(amt\u001b[38;5;241m=\u001b[39mamt, decode_content\u001b[38;5;241m=\u001b[39mdecode_content)\n\u001b[1;32m    938\u001b[0m         \u001b[38;5;28;01mif\u001b[39;00m data:\n\u001b[1;32m    939\u001b[0m             \u001b[38;5;28;01myield\u001b[39;00m data\n",
      "File \u001b[0;32m~/anaconda3/lib/python3.11/site-packages/urllib3/response.py:879\u001b[0m, in \u001b[0;36mHTTPResponse.read\u001b[0;34m(self, amt, decode_content, cache_content)\u001b[0m\n\u001b[1;32m    876\u001b[0m     \u001b[38;5;28;01mif\u001b[39;00m \u001b[38;5;28mlen\u001b[39m(\u001b[38;5;28mself\u001b[39m\u001b[38;5;241m.\u001b[39m_decoded_buffer) \u001b[38;5;241m>\u001b[39m\u001b[38;5;241m=\u001b[39m amt:\n\u001b[1;32m    877\u001b[0m         \u001b[38;5;28;01mreturn\u001b[39;00m \u001b[38;5;28mself\u001b[39m\u001b[38;5;241m.\u001b[39m_decoded_buffer\u001b[38;5;241m.\u001b[39mget(amt)\n\u001b[0;32m--> 879\u001b[0m data \u001b[38;5;241m=\u001b[39m \u001b[38;5;28mself\u001b[39m\u001b[38;5;241m.\u001b[39m_raw_read(amt)\n\u001b[1;32m    881\u001b[0m flush_decoder \u001b[38;5;241m=\u001b[39m amt \u001b[38;5;129;01mis\u001b[39;00m \u001b[38;5;28;01mNone\u001b[39;00m \u001b[38;5;129;01mor\u001b[39;00m (amt \u001b[38;5;241m!=\u001b[39m \u001b[38;5;241m0\u001b[39m \u001b[38;5;129;01mand\u001b[39;00m \u001b[38;5;129;01mnot\u001b[39;00m data)\n\u001b[1;32m    883\u001b[0m \u001b[38;5;28;01mif\u001b[39;00m \u001b[38;5;129;01mnot\u001b[39;00m data \u001b[38;5;129;01mand\u001b[39;00m \u001b[38;5;28mlen\u001b[39m(\u001b[38;5;28mself\u001b[39m\u001b[38;5;241m.\u001b[39m_decoded_buffer) \u001b[38;5;241m==\u001b[39m \u001b[38;5;241m0\u001b[39m:\n",
      "File \u001b[0;32m~/anaconda3/lib/python3.11/site-packages/urllib3/response.py:813\u001b[0m, in \u001b[0;36mHTTPResponse._raw_read\u001b[0;34m(self, amt)\u001b[0m\n\u001b[1;32m    809\u001b[0m     \u001b[38;5;28;01mreturn\u001b[39;00m \u001b[38;5;28;01mNone\u001b[39;00m  \u001b[38;5;66;03m# type: ignore[return-value]\u001b[39;00m\n\u001b[1;32m    811\u001b[0m fp_closed \u001b[38;5;241m=\u001b[39m \u001b[38;5;28mgetattr\u001b[39m(\u001b[38;5;28mself\u001b[39m\u001b[38;5;241m.\u001b[39m_fp, \u001b[38;5;124m\"\u001b[39m\u001b[38;5;124mclosed\u001b[39m\u001b[38;5;124m\"\u001b[39m, \u001b[38;5;28;01mFalse\u001b[39;00m)\n\u001b[0;32m--> 813\u001b[0m \u001b[38;5;28;01mwith\u001b[39;00m \u001b[38;5;28mself\u001b[39m\u001b[38;5;241m.\u001b[39m_error_catcher():\n\u001b[1;32m    814\u001b[0m     data \u001b[38;5;241m=\u001b[39m \u001b[38;5;28mself\u001b[39m\u001b[38;5;241m.\u001b[39m_fp_read(amt) \u001b[38;5;28;01mif\u001b[39;00m \u001b[38;5;129;01mnot\u001b[39;00m fp_closed \u001b[38;5;28;01melse\u001b[39;00m \u001b[38;5;124mb\u001b[39m\u001b[38;5;124m\"\u001b[39m\u001b[38;5;124m\"\u001b[39m\n\u001b[1;32m    815\u001b[0m     \u001b[38;5;28;01mif\u001b[39;00m amt \u001b[38;5;129;01mis\u001b[39;00m \u001b[38;5;129;01mnot\u001b[39;00m \u001b[38;5;28;01mNone\u001b[39;00m \u001b[38;5;129;01mand\u001b[39;00m amt \u001b[38;5;241m!=\u001b[39m \u001b[38;5;241m0\u001b[39m \u001b[38;5;129;01mand\u001b[39;00m \u001b[38;5;129;01mnot\u001b[39;00m data:\n\u001b[1;32m    816\u001b[0m         \u001b[38;5;66;03m# Platform-specific: Buggy versions of Python.\u001b[39;00m\n\u001b[1;32m    817\u001b[0m         \u001b[38;5;66;03m# Close the connection when no data is returned\u001b[39;00m\n\u001b[0;32m   (...)\u001b[0m\n\u001b[1;32m    822\u001b[0m         \u001b[38;5;66;03m# not properly close the connection in all cases. There is\u001b[39;00m\n\u001b[1;32m    823\u001b[0m         \u001b[38;5;66;03m# no harm in redundantly calling close.\u001b[39;00m\n",
      "File \u001b[0;32m~/anaconda3/lib/python3.11/contextlib.py:137\u001b[0m, in \u001b[0;36m_GeneratorContextManager.__enter__\u001b[0;34m(self)\u001b[0m\n\u001b[1;32m    135\u001b[0m \u001b[38;5;28;01mdel\u001b[39;00m \u001b[38;5;28mself\u001b[39m\u001b[38;5;241m.\u001b[39margs, \u001b[38;5;28mself\u001b[39m\u001b[38;5;241m.\u001b[39mkwds, \u001b[38;5;28mself\u001b[39m\u001b[38;5;241m.\u001b[39mfunc\n\u001b[1;32m    136\u001b[0m \u001b[38;5;28;01mtry\u001b[39;00m:\n\u001b[0;32m--> 137\u001b[0m     \u001b[38;5;28;01mreturn\u001b[39;00m \u001b[38;5;28mnext\u001b[39m(\u001b[38;5;28mself\u001b[39m\u001b[38;5;241m.\u001b[39mgen)\n\u001b[1;32m    138\u001b[0m \u001b[38;5;28;01mexcept\u001b[39;00m \u001b[38;5;167;01mStopIteration\u001b[39;00m:\n\u001b[1;32m    139\u001b[0m     \u001b[38;5;28;01mraise\u001b[39;00m \u001b[38;5;167;01mRuntimeError\u001b[39;00m(\u001b[38;5;124m\"\u001b[39m\u001b[38;5;124mgenerator didn\u001b[39m\u001b[38;5;124m'\u001b[39m\u001b[38;5;124mt yield\u001b[39m\u001b[38;5;124m\"\u001b[39m) \u001b[38;5;28;01mfrom\u001b[39;00m \u001b[38;5;28;01mNone\u001b[39;00m\n",
      "File \u001b[0;32m~/anaconda3/lib/python3.11/site-packages/urllib3/response.py:697\u001b[0m, in \u001b[0;36mHTTPResponse._error_catcher\u001b[0;34m(self)\u001b[0m\n\u001b[1;32m    693\u001b[0m         length \u001b[38;5;241m=\u001b[39m \u001b[38;5;241m0\u001b[39m\n\u001b[1;32m    695\u001b[0m     \u001b[38;5;28;01mreturn\u001b[39;00m length\n\u001b[0;32m--> 697\u001b[0m \u001b[38;5;129m@contextmanager\u001b[39m\n\u001b[1;32m    698\u001b[0m \u001b[38;5;28;01mdef\u001b[39;00m \u001b[38;5;21m_error_catcher\u001b[39m(\u001b[38;5;28mself\u001b[39m) \u001b[38;5;241m-\u001b[39m\u001b[38;5;241m>\u001b[39m typing\u001b[38;5;241m.\u001b[39mGenerator[\u001b[38;5;28;01mNone\u001b[39;00m, \u001b[38;5;28;01mNone\u001b[39;00m, \u001b[38;5;28;01mNone\u001b[39;00m]:\n\u001b[1;32m    699\u001b[0m \u001b[38;5;250m    \u001b[39m\u001b[38;5;124;03m\"\"\"\u001b[39;00m\n\u001b[1;32m    700\u001b[0m \u001b[38;5;124;03m    Catch low-level python exceptions, instead re-raising urllib3\u001b[39;00m\n\u001b[1;32m    701\u001b[0m \u001b[38;5;124;03m    variants, so that low-level exceptions are not leaked in the\u001b[39;00m\n\u001b[0;32m   (...)\u001b[0m\n\u001b[1;32m    704\u001b[0m \u001b[38;5;124;03m    On exit, release the connection back to the pool.\u001b[39;00m\n\u001b[1;32m    705\u001b[0m \u001b[38;5;124;03m    \"\"\"\u001b[39;00m\n\u001b[1;32m    706\u001b[0m     clean_exit \u001b[38;5;241m=\u001b[39m \u001b[38;5;28;01mFalse\u001b[39;00m\n",
      "\u001b[0;31mKeyboardInterrupt\u001b[0m: "
     ]
    }
   ],
   "source": [
    "import requests\n",
    "from datasets import load_dataset, Dataset\n",
    "import re\n",
    "import pyarrow.parquet as pq\n",
    "from tqdm import tqdm\n",
    "\n",
    "# Load the dataset using the traditional method\n",
    "dataset = load_dataset(\"allenai/c4\", \"az\")\n",
    "\n",
    "def count_sentences(text):\n",
    "    sentences = re.findall(r'[.!?]', text)\n",
    "    return len(sentences)\n",
    "\n",
    "sentence_count = 0\n",
    "for split in [\"train\", \"validation\"]:\n",
    "    for i in tqdm(dataset[split], desc=f\"Processing {split}\"):\n",
    "        sentence_count += count_sentences(i[\"text\"])\n",
    "\n",
    "print(\"Sentence count with traditional load method: \", sentence_count)"
   ]
  },
  {
   "cell_type": "code",
   "execution_count": 4,
   "id": "ec07e68c-d212-4735-95cf-c624195945de",
   "metadata": {},
   "outputs": [
    {
     "data": {
      "text/plain": [
       "Dataset({\n",
       "    features: ['text', 'timestamp', 'url'],\n",
       "    num_rows: 5285720\n",
       "})"
      ]
     },
     "execution_count": 4,
     "metadata": {},
     "output_type": "execute_result"
    }
   ],
   "source": [
    "dataset['train']"
   ]
  },
  {
   "cell_type": "code",
   "execution_count": 5,
   "id": "212963be-f117-4180-81c1-38a4e70699af",
   "metadata": {},
   "outputs": [
    {
     "data": {
      "text/plain": [
       "Dataset({\n",
       "    features: ['text', 'timestamp', 'url'],\n",
       "    num_rows: 5239\n",
       "})"
      ]
     },
     "execution_count": 5,
     "metadata": {},
     "output_type": "execute_result"
    }
   ],
   "source": [
    "dataset['validation']"
   ]
  },
  {
   "cell_type": "code",
   "execution_count": 7,
   "id": "ff7a08d8-803b-4d9b-9dfc-860a70d6ebaa",
   "metadata": {},
   "outputs": [],
   "source": [
    "import pandas as pd\n",
    "# Convert the dataset splits to DataFrames\n",
    "train_df = pd.DataFrame(dataset['train'])\n",
    "validation_df = pd.DataFrame(dataset['validation'])\n",
    "\n",
    "# Merge the DataFrames\n",
    "merged_df = pd.concat([train_df, validation_df], ignore_index=True)"
   ]
  },
  {
   "cell_type": "code",
   "execution_count": 8,
   "id": "36b0642c-1742-402f-9a48-6a7125b1650f",
   "metadata": {},
   "outputs": [
    {
     "data": {
      "text/html": [
       "<div>\n",
       "<style scoped>\n",
       "    .dataframe tbody tr th:only-of-type {\n",
       "        vertical-align: middle;\n",
       "    }\n",
       "\n",
       "    .dataframe tbody tr th {\n",
       "        vertical-align: top;\n",
       "    }\n",
       "\n",
       "    .dataframe thead th {\n",
       "        text-align: right;\n",
       "    }\n",
       "</style>\n",
       "<table border=\"1\" class=\"dataframe\">\n",
       "  <thead>\n",
       "    <tr style=\"text-align: right;\">\n",
       "      <th></th>\n",
       "      <th>text</th>\n",
       "      <th>timestamp</th>\n",
       "      <th>url</th>\n",
       "    </tr>\n",
       "  </thead>\n",
       "  <tbody>\n",
       "    <tr>\n",
       "      <th>0</th>\n",
       "      <td>Mühacirət mövzusunun öyrənilməsi ictimai-siyas...</td>\n",
       "      <td>2019-01-23 08:22:09</td>\n",
       "      <td>https://azertag.az/xeber/Muhaciret_movzusunun_...</td>\n",
       "    </tr>\n",
       "    <tr>\n",
       "      <th>1</th>\n",
       "      <td>﻿ Lurer.com | Յուրի Խաչատուրովն ասել է, որ չի ...</td>\n",
       "      <td>2019-04-25 08:32:04</td>\n",
       "      <td>https://lurer.com/?p=295680&amp;l=am</td>\n",
       "    </tr>\n",
       "    <tr>\n",
       "      <th>2</th>\n",
       "      <td>Xiaomi Mi 8 Lite 128 GB Siyah Dist Dual Sim Ce...</td>\n",
       "      <td>2019-09-22 20:17:05</td>\n",
       "      <td>https://www.istanbulbilisim.com/xiaomi-mi-8-li...</td>\n",
       "    </tr>\n",
       "    <tr>\n",
       "      <th>3</th>\n",
       "      <td>Palitra qəzetiSərnişin avtobuslarını çirkləndi...</td>\n",
       "      <td>2019-09-19 06:37:08</td>\n",
       "      <td>http://www.palitranews.az/news.php?id=65577</td>\n",
       "    </tr>\n",
       "    <tr>\n",
       "      <th>4</th>\n",
       "      <td>Times.am | Բաց և թափանցիկ համացանցային հարթակ\\...</td>\n",
       "      <td>2017-06-28 20:54:07</td>\n",
       "      <td>http://blog.times.am/?p=203219&amp;l=am</td>\n",
       "    </tr>\n",
       "    <tr>\n",
       "      <th>...</th>\n",
       "      <td>...</td>\n",
       "      <td>...</td>\n",
       "      <td>...</td>\n",
       "    </tr>\n",
       "    <tr>\n",
       "      <th>5290954</th>\n",
       "      <td>Tahir Mirkişili sahibkarlarla onlayn görüş keç...</td>\n",
       "      <td>2020-08-03 15:30:19</td>\n",
       "      <td>https://mail.168saat.com/1464-tahir-mirkisili-...</td>\n",
       "    </tr>\n",
       "    <tr>\n",
       "      <th>5290955</th>\n",
       "      <td>Qadınları sevməyi öyrənin - Yazılı şəkillər » ...</td>\n",
       "      <td>2017-04-24 19:20:52</td>\n",
       "      <td>http://qadinla.com/heyat-terzi/yazili-sekiller...</td>\n",
       "    </tr>\n",
       "    <tr>\n",
       "      <th>5290956</th>\n",
       "      <td>Ölkədə dəlixanaların sayı artmalıdır, ya yox?\\...</td>\n",
       "      <td>2020-01-27 21:24:56</td>\n",
       "      <td>https://sputnik.az/news/20191117/422316616/Psi...</td>\n",
       "    </tr>\n",
       "    <tr>\n",
       "      <th>5290957</th>\n",
       "      <td>Azərbaycan prezidenti: Bu faşizmdir, irqçilikd...</td>\n",
       "      <td>2018-11-12 23:02:27</td>\n",
       "      <td>http://payiz.az/news/4766/azerbaycan-prezident...</td>\n",
       "    </tr>\n",
       "    <tr>\n",
       "      <th>5290958</th>\n",
       "      <td>Ən ucuz bizdə - @brendd.az Instagram Profile -...</td>\n",
       "      <td>2019-01-19 14:33:24</td>\n",
       "      <td>http://www.inst4gram.com/u/brendd.az</td>\n",
       "    </tr>\n",
       "  </tbody>\n",
       "</table>\n",
       "<p>5290959 rows × 3 columns</p>\n",
       "</div>"
      ],
      "text/plain": [
       "                                                      text  \\\n",
       "0        Mühacirət mövzusunun öyrənilməsi ictimai-siyas...   \n",
       "1        ﻿ Lurer.com | Յուրի Խաչատուրովն ասել է, որ չի ...   \n",
       "2        Xiaomi Mi 8 Lite 128 GB Siyah Dist Dual Sim Ce...   \n",
       "3        Palitra qəzetiSərnişin avtobuslarını çirkləndi...   \n",
       "4        Times.am | Բաց և թափանցիկ համացանցային հարթակ\\...   \n",
       "...                                                    ...   \n",
       "5290954  Tahir Mirkişili sahibkarlarla onlayn görüş keç...   \n",
       "5290955  Qadınları sevməyi öyrənin - Yazılı şəkillər » ...   \n",
       "5290956  Ölkədə dəlixanaların sayı artmalıdır, ya yox?\\...   \n",
       "5290957  Azərbaycan prezidenti: Bu faşizmdir, irqçilikd...   \n",
       "5290958  Ən ucuz bizdə - @brendd.az Instagram Profile -...   \n",
       "\n",
       "                  timestamp                                                url  \n",
       "0       2019-01-23 08:22:09  https://azertag.az/xeber/Muhaciret_movzusunun_...  \n",
       "1       2019-04-25 08:32:04                   https://lurer.com/?p=295680&l=am  \n",
       "2       2019-09-22 20:17:05  https://www.istanbulbilisim.com/xiaomi-mi-8-li...  \n",
       "3       2019-09-19 06:37:08        http://www.palitranews.az/news.php?id=65577  \n",
       "4       2017-06-28 20:54:07                http://blog.times.am/?p=203219&l=am  \n",
       "...                     ...                                                ...  \n",
       "5290954 2020-08-03 15:30:19  https://mail.168saat.com/1464-tahir-mirkisili-...  \n",
       "5290955 2017-04-24 19:20:52  http://qadinla.com/heyat-terzi/yazili-sekiller...  \n",
       "5290956 2020-01-27 21:24:56  https://sputnik.az/news/20191117/422316616/Psi...  \n",
       "5290957 2018-11-12 23:02:27  http://payiz.az/news/4766/azerbaycan-prezident...  \n",
       "5290958 2019-01-19 14:33:24               http://www.inst4gram.com/u/brendd.az  \n",
       "\n",
       "[5290959 rows x 3 columns]"
      ]
     },
     "execution_count": 8,
     "metadata": {},
     "output_type": "execute_result"
    }
   ],
   "source": [
    "merged_df"
   ]
  },
  {
   "cell_type": "code",
   "execution_count": 9,
   "id": "71154d79-8c70-410a-96e8-b0c828b01390",
   "metadata": {},
   "outputs": [],
   "source": [
    "df = _"
   ]
  },
  {
   "cell_type": "code",
   "execution_count": 14,
   "id": "f347a898-8815-4627-aada-a0c2eb48f4f4",
   "metadata": {},
   "outputs": [
    {
     "name": "stderr",
     "output_type": "stream",
     "text": [
      "Counting words in merged dataset: 100%|█| 5290959/5290959 [01:59<00:00, 44212.72"
     ]
    },
    {
     "name": "stdout",
     "output_type": "stream",
     "text": [
      "Total word count in merged dataset:  1747607602\n"
     ]
    },
    {
     "name": "stderr",
     "output_type": "stream",
     "text": [
      "\n"
     ]
    }
   ],
   "source": [
    "import pandas as pd\n",
    "from tqdm import tqdm\n",
    "\n",
    "# Assuming merged_df is the DataFrame that you have after merging 'train' and 'validation' datasets\n",
    "\n",
    "# Function to count words in a text\n",
    "def count_words(text):\n",
    "    words = text.split()\n",
    "    return len(words)\n",
    "\n",
    "# Calculate the total word count in the merged DataFrame\n",
    "total_word_count = 0\n",
    "for text in tqdm(merged_df['text'], desc=\"Counting words in merged dataset\"):\n",
    "    total_word_count += count_words(text)\n",
    "\n",
    "print(\"Total word count in merged dataset: \", total_word_count)"
   ]
  },
  {
   "cell_type": "code",
   "execution_count": 10,
   "id": "921fa77b-fecc-4f29-aee2-68e5089af30f",
   "metadata": {},
   "outputs": [
    {
     "data": {
      "text/html": [
       "<div>\n",
       "<style scoped>\n",
       "    .dataframe tbody tr th:only-of-type {\n",
       "        vertical-align: middle;\n",
       "    }\n",
       "\n",
       "    .dataframe tbody tr th {\n",
       "        vertical-align: top;\n",
       "    }\n",
       "\n",
       "    .dataframe thead th {\n",
       "        text-align: right;\n",
       "    }\n",
       "</style>\n",
       "<table border=\"1\" class=\"dataframe\">\n",
       "  <thead>\n",
       "    <tr style=\"text-align: right;\">\n",
       "      <th></th>\n",
       "      <th>text</th>\n",
       "      <th>timestamp</th>\n",
       "      <th>url</th>\n",
       "    </tr>\n",
       "  </thead>\n",
       "  <tbody>\n",
       "    <tr>\n",
       "      <th>2</th>\n",
       "      <td>Xiaomi Mi 8 Lite 128 GB Siyah Dist Dual Sim Ce...</td>\n",
       "      <td>2019-09-22 20:17:05</td>\n",
       "      <td>https://www.istanbulbilisim.com/xiaomi-mi-8-li...</td>\n",
       "    </tr>\n",
       "    <tr>\n",
       "      <th>6</th>\n",
       "      <td>Qadin saatlari 2018 - ən ucuz qiyməti və satış...</td>\n",
       "      <td>2019-10-18 14:33:56</td>\n",
       "      <td>https://alsatmall.com/tag/qadin-saatlari-2018</td>\n",
       "    </tr>\n",
       "    <tr>\n",
       "      <th>9</th>\n",
       "      <td>Elan nömrəsi: 406873\\nOfisə kadr təiəb olunur:...</td>\n",
       "      <td>2020-08-09 15:06:48</td>\n",
       "      <td>https://unvan.az/ofise-xanim-kadr-teleb-olunur...</td>\n",
       "    </tr>\n",
       "    <tr>\n",
       "      <th>29</th>\n",
       "      <td>Garmin Araç Navigasyonu Montaj Kiti Fiyatı, Ga...</td>\n",
       "      <td>2019-06-20 04:53:17</td>\n",
       "      <td>https://www.garminsaat.com/garmin-arac-navigas...</td>\n",
       "    </tr>\n",
       "    <tr>\n",
       "      <th>30</th>\n",
       "      <td>2017, 24 Yanvar, çərşənbə axşamı, Bakı vaxtı 0...</td>\n",
       "      <td>2017-01-23 22:56:29</td>\n",
       "      <td>https://www.azadliq.org/a/24795291.html</td>\n",
       "    </tr>\n",
       "    <tr>\n",
       "      <th>...</th>\n",
       "      <td>...</td>\n",
       "      <td>...</td>\n",
       "      <td>...</td>\n",
       "    </tr>\n",
       "    <tr>\n",
       "      <th>5290929</th>\n",
       "      <td>\"Bir milyondan çox qeyri-leqal məşğulluq rəsmi...</td>\n",
       "      <td>2020-01-19 08:45:07</td>\n",
       "      <td>http://demokrat.az/news/6532</td>\n",
       "    </tr>\n",
       "    <tr>\n",
       "      <th>5290932</th>\n",
       "      <td>Brifinq.az APA-ya istinadən xəbər verir ki, bu...</td>\n",
       "      <td>2017-01-23 16:54:42</td>\n",
       "      <td>http://brifinq.az/news/sience/36104-sagirdleri...</td>\n",
       "    </tr>\n",
       "    <tr>\n",
       "      <th>5290934</th>\n",
       "      <td>49 il danışa bilməyən azərbaycanlı qadının dil...</td>\n",
       "      <td>2019-05-27 07:49:23</td>\n",
       "      <td>https://www.medicina.az/49-il-danisa-bilmeyen-...</td>\n",
       "    </tr>\n",
       "    <tr>\n",
       "      <th>5290935</th>\n",
       "      <td>Axar.az xəbər verir ki, bu, keçən ilin dövlət ...</td>\n",
       "      <td>2018-03-23 18:23:48</td>\n",
       "      <td>http://axar.az/news/iqtisadiyyat/227014.html</td>\n",
       "    </tr>\n",
       "    <tr>\n",
       "      <th>5290942</th>\n",
       "      <td>Müşviq əkiz bacılarla küsülü imiş - foto Arxiv...</td>\n",
       "      <td>2017-05-28 07:09:07</td>\n",
       "      <td>http://metbuat.az/news/548766/musviq-ekiz-baci...</td>\n",
       "    </tr>\n",
       "  </tbody>\n",
       "</table>\n",
       "<p>1045725 rows × 3 columns</p>\n",
       "</div>"
      ],
      "text/plain": [
       "                                                      text  \\\n",
       "2        Xiaomi Mi 8 Lite 128 GB Siyah Dist Dual Sim Ce...   \n",
       "6        Qadin saatlari 2018 - ən ucuz qiyməti və satış...   \n",
       "9        Elan nömrəsi: 406873\\nOfisə kadr təiəb olunur:...   \n",
       "29       Garmin Araç Navigasyonu Montaj Kiti Fiyatı, Ga...   \n",
       "30       2017, 24 Yanvar, çərşənbə axşamı, Bakı vaxtı 0...   \n",
       "...                                                    ...   \n",
       "5290929  \"Bir milyondan çox qeyri-leqal məşğulluq rəsmi...   \n",
       "5290932  Brifinq.az APA-ya istinadən xəbər verir ki, bu...   \n",
       "5290934  49 il danışa bilməyən azərbaycanlı qadının dil...   \n",
       "5290935  Axar.az xəbər verir ki, bu, keçən ilin dövlət ...   \n",
       "5290942  Müşviq əkiz bacılarla küsülü imiş - foto Arxiv...   \n",
       "\n",
       "                  timestamp                                                url  \n",
       "2       2019-09-22 20:17:05  https://www.istanbulbilisim.com/xiaomi-mi-8-li...  \n",
       "6       2019-10-18 14:33:56      https://alsatmall.com/tag/qadin-saatlari-2018  \n",
       "9       2020-08-09 15:06:48  https://unvan.az/ofise-xanim-kadr-teleb-olunur...  \n",
       "29      2019-06-20 04:53:17  https://www.garminsaat.com/garmin-arac-navigas...  \n",
       "30      2017-01-23 22:56:29            https://www.azadliq.org/a/24795291.html  \n",
       "...                     ...                                                ...  \n",
       "5290929 2020-01-19 08:45:07                       http://demokrat.az/news/6532  \n",
       "5290932 2017-01-23 16:54:42  http://brifinq.az/news/sience/36104-sagirdleri...  \n",
       "5290934 2019-05-27 07:49:23  https://www.medicina.az/49-il-danisa-bilmeyen-...  \n",
       "5290935 2018-03-23 18:23:48       http://axar.az/news/iqtisadiyyat/227014.html  \n",
       "5290942 2017-05-28 07:09:07  http://metbuat.az/news/548766/musviq-ekiz-baci...  \n",
       "\n",
       "[1045725 rows x 3 columns]"
      ]
     },
     "execution_count": 10,
     "metadata": {},
     "output_type": "execute_result"
    }
   ],
   "source": [
    "import re\n",
    "import pandas as pd\n",
    "from tqdm import tqdm\n",
    "import string\n",
    "\n",
    "# Azerbaijani characters\n",
    "az_characters = \"A-Za-zÇçƏəĞğİıÖöŞşÜü\"\n",
    "digits = \"0-9\"\n",
    "punctuation = string.punctuation\n",
    "\n",
    "# Compile a regex pattern to match only Azerbaijani letters, digits, punctuation, and whitespace\n",
    "pattern = re.compile(f\"^[{az_characters}{digits}{re.escape(punctuation)}\\s]+$\")\n",
    "\n",
    "# Function to check if the text matches the Azerbaijani character set, digits, and punctuation\n",
    "def is_azerbaijani(text):\n",
    "    return bool(pattern.match(text))\n",
    "\n",
    "# Assuming `merged_df` is the merged DataFrame from the previous steps\n",
    "# Filter the DataFrame\n",
    "filtered_df = merged_df[merged_df['text'].apply(is_azerbaijani)]\n",
    "filtered_df"
   ]
  },
  {
   "cell_type": "code",
   "execution_count": 11,
   "id": "7ba699d5-58a7-432f-9c5a-56a5f55b81d1",
   "metadata": {},
   "outputs": [
    {
     "name": "stderr",
     "output_type": "stream",
     "text": [
      "Processing filtered dataset: 100%|█| 1045725/1045725 [00:10<00:00, 96537.01it/s]"
     ]
    },
    {
     "name": "stdout",
     "output_type": "stream",
     "text": [
      "Sentence count in filtered dataset:  14360168\n"
     ]
    },
    {
     "name": "stderr",
     "output_type": "stream",
     "text": [
      "\n"
     ]
    }
   ],
   "source": [
    "# Count sentences in the filtered DataFrame\n",
    "def count_sentences(text):\n",
    "    sentences = re.findall(r'[.!?]', text)\n",
    "    return len(sentences)\n",
    "\n",
    "sentence_count = 0\n",
    "for text in tqdm(filtered_df['text'], desc=\"Processing filtered dataset\"):\n",
    "    sentence_count += count_sentences(text)\n",
    "\n",
    "print(\"Sentence count in filtered dataset: \", sentence_count)"
   ]
  },
  {
   "cell_type": "code",
   "execution_count": 12,
   "id": "e41dd0a9-1a96-42a0-9573-4e7ef3043084",
   "metadata": {},
   "outputs": [
    {
     "data": {
      "text/html": [
       "<div>\n",
       "<style scoped>\n",
       "    .dataframe tbody tr th:only-of-type {\n",
       "        vertical-align: middle;\n",
       "    }\n",
       "\n",
       "    .dataframe tbody tr th {\n",
       "        vertical-align: top;\n",
       "    }\n",
       "\n",
       "    .dataframe thead th {\n",
       "        text-align: right;\n",
       "    }\n",
       "</style>\n",
       "<table border=\"1\" class=\"dataframe\">\n",
       "  <thead>\n",
       "    <tr style=\"text-align: right;\">\n",
       "      <th></th>\n",
       "      <th>text</th>\n",
       "      <th>timestamp</th>\n",
       "      <th>url</th>\n",
       "    </tr>\n",
       "  </thead>\n",
       "  <tbody>\n",
       "    <tr>\n",
       "      <th>2</th>\n",
       "      <td>Xiaomi Mi 8 Lite 128 GB Siyah Dist Dual Sim Ce...</td>\n",
       "      <td>2019-09-22 20:17:05</td>\n",
       "      <td>https://www.istanbulbilisim.com/xiaomi-mi-8-li...</td>\n",
       "    </tr>\n",
       "    <tr>\n",
       "      <th>6</th>\n",
       "      <td>Qadin saatlari 2018 - ən ucuz qiyməti və satış...</td>\n",
       "      <td>2019-10-18 14:33:56</td>\n",
       "      <td>https://alsatmall.com/tag/qadin-saatlari-2018</td>\n",
       "    </tr>\n",
       "    <tr>\n",
       "      <th>9</th>\n",
       "      <td>Elan nömrəsi: 406873\\nOfisə kadr təiəb olunur:...</td>\n",
       "      <td>2020-08-09 15:06:48</td>\n",
       "      <td>https://unvan.az/ofise-xanim-kadr-teleb-olunur...</td>\n",
       "    </tr>\n",
       "    <tr>\n",
       "      <th>29</th>\n",
       "      <td>Garmin Araç Navigasyonu Montaj Kiti Fiyatı, Ga...</td>\n",
       "      <td>2019-06-20 04:53:17</td>\n",
       "      <td>https://www.garminsaat.com/garmin-arac-navigas...</td>\n",
       "    </tr>\n",
       "    <tr>\n",
       "      <th>30</th>\n",
       "      <td>2017, 24 Yanvar, çərşənbə axşamı, Bakı vaxtı 0...</td>\n",
       "      <td>2017-01-23 22:56:29</td>\n",
       "      <td>https://www.azadliq.org/a/24795291.html</td>\n",
       "    </tr>\n",
       "    <tr>\n",
       "      <th>...</th>\n",
       "      <td>...</td>\n",
       "      <td>...</td>\n",
       "      <td>...</td>\n",
       "    </tr>\n",
       "    <tr>\n",
       "      <th>5290929</th>\n",
       "      <td>\"Bir milyondan çox qeyri-leqal məşğulluq rəsmi...</td>\n",
       "      <td>2020-01-19 08:45:07</td>\n",
       "      <td>http://demokrat.az/news/6532</td>\n",
       "    </tr>\n",
       "    <tr>\n",
       "      <th>5290932</th>\n",
       "      <td>Brifinq.az APA-ya istinadən xəbər verir ki, bu...</td>\n",
       "      <td>2017-01-23 16:54:42</td>\n",
       "      <td>http://brifinq.az/news/sience/36104-sagirdleri...</td>\n",
       "    </tr>\n",
       "    <tr>\n",
       "      <th>5290934</th>\n",
       "      <td>49 il danışa bilməyən azərbaycanlı qadının dil...</td>\n",
       "      <td>2019-05-27 07:49:23</td>\n",
       "      <td>https://www.medicina.az/49-il-danisa-bilmeyen-...</td>\n",
       "    </tr>\n",
       "    <tr>\n",
       "      <th>5290935</th>\n",
       "      <td>Axar.az xəbər verir ki, bu, keçən ilin dövlət ...</td>\n",
       "      <td>2018-03-23 18:23:48</td>\n",
       "      <td>http://axar.az/news/iqtisadiyyat/227014.html</td>\n",
       "    </tr>\n",
       "    <tr>\n",
       "      <th>5290942</th>\n",
       "      <td>Müşviq əkiz bacılarla küsülü imiş - foto Arxiv...</td>\n",
       "      <td>2017-05-28 07:09:07</td>\n",
       "      <td>http://metbuat.az/news/548766/musviq-ekiz-baci...</td>\n",
       "    </tr>\n",
       "  </tbody>\n",
       "</table>\n",
       "<p>1045725 rows × 3 columns</p>\n",
       "</div>"
      ],
      "text/plain": [
       "                                                      text  \\\n",
       "2        Xiaomi Mi 8 Lite 128 GB Siyah Dist Dual Sim Ce...   \n",
       "6        Qadin saatlari 2018 - ən ucuz qiyməti və satış...   \n",
       "9        Elan nömrəsi: 406873\\nOfisə kadr təiəb olunur:...   \n",
       "29       Garmin Araç Navigasyonu Montaj Kiti Fiyatı, Ga...   \n",
       "30       2017, 24 Yanvar, çərşənbə axşamı, Bakı vaxtı 0...   \n",
       "...                                                    ...   \n",
       "5290929  \"Bir milyondan çox qeyri-leqal məşğulluq rəsmi...   \n",
       "5290932  Brifinq.az APA-ya istinadən xəbər verir ki, bu...   \n",
       "5290934  49 il danışa bilməyən azərbaycanlı qadının dil...   \n",
       "5290935  Axar.az xəbər verir ki, bu, keçən ilin dövlət ...   \n",
       "5290942  Müşviq əkiz bacılarla küsülü imiş - foto Arxiv...   \n",
       "\n",
       "                  timestamp                                                url  \n",
       "2       2019-09-22 20:17:05  https://www.istanbulbilisim.com/xiaomi-mi-8-li...  \n",
       "6       2019-10-18 14:33:56      https://alsatmall.com/tag/qadin-saatlari-2018  \n",
       "9       2020-08-09 15:06:48  https://unvan.az/ofise-xanim-kadr-teleb-olunur...  \n",
       "29      2019-06-20 04:53:17  https://www.garminsaat.com/garmin-arac-navigas...  \n",
       "30      2017-01-23 22:56:29            https://www.azadliq.org/a/24795291.html  \n",
       "...                     ...                                                ...  \n",
       "5290929 2020-01-19 08:45:07                       http://demokrat.az/news/6532  \n",
       "5290932 2017-01-23 16:54:42  http://brifinq.az/news/sience/36104-sagirdleri...  \n",
       "5290934 2019-05-27 07:49:23  https://www.medicina.az/49-il-danisa-bilmeyen-...  \n",
       "5290935 2018-03-23 18:23:48       http://axar.az/news/iqtisadiyyat/227014.html  \n",
       "5290942 2017-05-28 07:09:07  http://metbuat.az/news/548766/musviq-ekiz-baci...  \n",
       "\n",
       "[1045725 rows x 3 columns]"
      ]
     },
     "execution_count": 12,
     "metadata": {},
     "output_type": "execute_result"
    }
   ],
   "source": [
    "df = filtered_df\n",
    "df = df.dropna(subset='text').drop_duplicates(subset='text')\n",
    "df"
   ]
  },
  {
   "cell_type": "code",
   "execution_count": 13,
   "id": "e2eb6c1f-058b-43b0-9fb4-c3ebd85424fa",
   "metadata": {},
   "outputs": [],
   "source": [
    "df.to_csv('c4-az-clean.csv')"
   ]
  },
  {
   "cell_type": "code",
   "execution_count": 16,
   "id": "e6f716f7-ce5a-4f4a-84d1-f3889022d051",
   "metadata": {},
   "outputs": [
    {
     "name": "stderr",
     "output_type": "stream",
     "text": [
      "Calculating word counts: 100%|█████| 1045725/1045725 [00:14<00:00, 73295.27it/s]"
     ]
    },
    {
     "name": "stdout",
     "output_type": "stream",
     "text": [
      "Total word count: 192723366\n"
     ]
    },
    {
     "name": "stderr",
     "output_type": "stream",
     "text": [
      "\n"
     ]
    }
   ],
   "source": [
    "import pandas as pd\n",
    "from tqdm import tqdm\n",
    "\n",
    "# Assuming merged_df is the DataFrame that you have after merging 'train' and 'validation' datasets\n",
    "\n",
    "# Function to count words in a text\n",
    "def count_words(text):\n",
    "    words = text.split()\n",
    "    return len(words)\n",
    "\n",
    "# Apply the word count function to the 'text' column and create a new column 'word_count'\n",
    "tqdm.pandas(desc=\"Calculating word counts\")\n",
    "df['word_count'] = df['text'].progress_apply(count_words)\n",
    "\n",
    "# Calculate the total word count\n",
    "total_word_count = df['word_count'].sum()\n",
    "\n",
    "print(\"Total word count:\", total_word_count)\n"
   ]
  },
  {
   "cell_type": "code",
   "execution_count": 18,
   "id": "38f7f1ec-a0fe-48c6-9f39-6c0f1aeb811b",
   "metadata": {},
   "outputs": [
    {
     "name": "stdout",
     "output_type": "stream",
     "text": [
      "Count of different words: 6238154\n"
     ]
    }
   ],
   "source": [
    "from collections import Counter\n",
    "\n",
    "# Split the text into individual words and count their occurrences\n",
    "word_counts = Counter(\" \".join(df['text']).split())\n",
    "\n",
    "# Print the count of different words\n",
    "print(\"Count of different words:\", len(word_counts))\n"
   ]
  },
  {
   "cell_type": "code",
   "execution_count": null,
   "id": "a776d42f-276d-47d8-a632-28fff948f1f9",
   "metadata": {},
   "outputs": [],
   "source": []
  }
 ],
 "metadata": {
  "kernelspec": {
   "display_name": "Python 3 (ipykernel)",
   "language": "python",
   "name": "python3"
  },
  "language_info": {
   "codemirror_mode": {
    "name": "ipython",
    "version": 3
   },
   "file_extension": ".py",
   "mimetype": "text/x-python",
   "name": "python",
   "nbconvert_exporter": "python",
   "pygments_lexer": "ipython3",
   "version": "3.11.8"
  }
 },
 "nbformat": 4,
 "nbformat_minor": 5
}
