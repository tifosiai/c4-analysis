{
 "cells": [
  {
   "cell_type": "code",
   "execution_count": 7,
   "id": "c752d270-1c25-429e-9157-28c38c369f8d",
   "metadata": {},
   "outputs": [
    {
     "name": "stdout",
     "output_type": "stream",
     "text": [
      "[\"https://huggingface.co/api/datasets/allenai/c4/parquet/az/train/0.parquet\",\"https://huggingface.co/api/datasets/allenai/c4/parquet/az/train/1.parquet\",\"https://huggingface.co/api/datasets/allenai/c4/parquet/az/train/2.parquet\",\"https://huggingface.co/api/datasets/allenai/c4/parquet/az/train/3.parquet\",\"https://huggingface.co/api/datasets/allenai/c4/parquet/az/train/4.parquet\",\"https://huggingface.co/api/datasets/allenai/c4/parquet/az/train/5.parquet\",\"https://huggingface.co/api/datasets/allenai/c4/parquet/az/train/6.parquet\",\"https://huggingface.co/api/datasets/allenai/c4/parquet/az/train/7.parquet\",\"https://huggingface.co/api/datasets/allenai/c4/parquet/az/train/8.parquet\",\"https://huggingface.co/api/datasets/allenai/c4/parquet/az/train/9.parquet\"]"
     ]
    }
   ],
   "source": [
    "!curl -X GET \\\n",
    "     \"https://huggingface.co/api/datasets/allenai/c4/parquet/az/train\""
   ]
  },
  {
   "cell_type": "code",
   "execution_count": 3,
   "id": "6fecc347-7163-4b4c-a755-48043a14cdbd",
   "metadata": {},
   "outputs": [
    {
     "name": "stdout",
     "output_type": "stream",
     "text": [
      "Downloading file 0 from https://huggingface.co/api/datasets/allenai/c4/parquet/az/train/0.parquet\n",
      "Downloading file 1 from https://huggingface.co/api/datasets/allenai/c4/parquet/az/train/1.parquet\n",
      "Downloading file 2 from https://huggingface.co/api/datasets/allenai/c4/parquet/az/train/2.parquet\n",
      "Downloading file 3 from https://huggingface.co/api/datasets/allenai/c4/parquet/az/train/3.parquet\n",
      "Downloading file 4 from https://huggingface.co/api/datasets/allenai/c4/parquet/az/train/4.parquet\n",
      "Downloading file 5 from https://huggingface.co/api/datasets/allenai/c4/parquet/az/train/5.parquet\n",
      "Downloading file 6 from https://huggingface.co/api/datasets/allenai/c4/parquet/az/train/6.parquet\n",
      "Downloading file 7 from https://huggingface.co/api/datasets/allenai/c4/parquet/az/train/7.parquet\n",
      "Downloading file 8 from https://huggingface.co/api/datasets/allenai/c4/parquet/az/train/8.parquet\n",
      "Downloading file 9 from https://huggingface.co/api/datasets/allenai/c4/parquet/az/train/9.parquet\n"
     ]
    }
   ],
   "source": [
    "import pandas as pd\n",
    "import requests\n",
    "from datasets import Dataset\n",
    "\n",
    "# List of URLs for the Parquet files\n",
    "urls = [\n",
    "    \"https://huggingface.co/api/datasets/allenai/c4/parquet/az/train/0.parquet\",\n",
    "    \"https://huggingface.co/api/datasets/allenai/c4/parquet/az/train/1.parquet\",\n",
    "    \"https://huggingface.co/api/datasets/allenai/c4/parquet/az/train/2.parquet\",\n",
    "    \"https://huggingface.co/api/datasets/allenai/c4/parquet/az/train/3.parquet\",\n",
    "    \"https://huggingface.co/api/datasets/allenai/c4/parquet/az/train/4.parquet\",\n",
    "    \"https://huggingface.co/api/datasets/allenai/c4/parquet/az/train/5.parquet\",\n",
    "    \"https://huggingface.co/api/datasets/allenai/c4/parquet/az/train/6.parquet\",\n",
    "    \"https://huggingface.co/api/datasets/allenai/c4/parquet/az/train/7.parquet\",\n",
    "    \"https://huggingface.co/api/datasets/allenai/c4/parquet/az/train/8.parquet\",\n",
    "    \"https://huggingface.co/api/datasets/allenai/c4/parquet/az/train/9.parquet\"\n",
    "]\n",
    "dfs = []\n",
    "# Function to download a file from a URL and load it as a DataFrame\n",
    "def download_and_load_parquet(url, index):\n",
    "    print(f\"Downloading file {index} from {url}\")\n",
    "    response = requests.get(url)\n",
    "    response.raise_for_status()  # Ensure we raise an error for bad status\n",
    "    temp_file = f'temp_{index}.parquet'\n",
    "    with open(temp_file, 'wb') as f:\n",
    "        f.write(response.content)\n",
    "    df = pd.read_parquet(temp_file)\n",
    "    dfs.append(df)\n",
    "    return dfs\n",
    "\n",
    "# Download and load all Parquet files\n",
    "datasets = [download_and_load_parquet(url, index) for index, url in enumerate(urls)]"
   ]
  },
  {
   "cell_type": "code",
   "execution_count": 4,
   "id": "136b7c55-1f73-4d29-936f-879ff88b93a4",
   "metadata": {},
   "outputs": [],
   "source": [
    "d = pd.concat(dfs)"
   ]
  },
  {
   "cell_type": "code",
   "execution_count": 5,
   "id": "bc641f91-8f70-447c-87bd-000f6fcdf8ce",
   "metadata": {},
   "outputs": [
    {
     "data": {
      "text/html": [
       "<div>\n",
       "<style scoped>\n",
       "    .dataframe tbody tr th:only-of-type {\n",
       "        vertical-align: middle;\n",
       "    }\n",
       "\n",
       "    .dataframe tbody tr th {\n",
       "        vertical-align: top;\n",
       "    }\n",
       "\n",
       "    .dataframe thead th {\n",
       "        text-align: right;\n",
       "    }\n",
       "</style>\n",
       "<table border=\"1\" class=\"dataframe\">\n",
       "  <thead>\n",
       "    <tr style=\"text-align: right;\">\n",
       "      <th></th>\n",
       "      <th>text</th>\n",
       "      <th>timestamp</th>\n",
       "      <th>url</th>\n",
       "    </tr>\n",
       "  </thead>\n",
       "  <tbody>\n",
       "    <tr>\n",
       "      <th>0</th>\n",
       "      <td>Mühacirət mövzusunun öyrənilməsi ictimai-siyas...</td>\n",
       "      <td>2019-01-23 08:22:09</td>\n",
       "      <td>https://azertag.az/xeber/Muhaciret_movzusunun_...</td>\n",
       "    </tr>\n",
       "    <tr>\n",
       "      <th>1</th>\n",
       "      <td>﻿ Lurer.com | Յուրի Խաչատուրովն ասել է, որ չի ...</td>\n",
       "      <td>2019-04-25 08:32:04</td>\n",
       "      <td>https://lurer.com/?p=295680&amp;l=am</td>\n",
       "    </tr>\n",
       "    <tr>\n",
       "      <th>2</th>\n",
       "      <td>Xiaomi Mi 8 Lite 128 GB Siyah Dist Dual Sim Ce...</td>\n",
       "      <td>2019-09-22 20:17:05</td>\n",
       "      <td>https://www.istanbulbilisim.com/xiaomi-mi-8-li...</td>\n",
       "    </tr>\n",
       "    <tr>\n",
       "      <th>3</th>\n",
       "      <td>Palitra qəzetiSərnişin avtobuslarını çirkləndi...</td>\n",
       "      <td>2019-09-19 06:37:08</td>\n",
       "      <td>http://www.palitranews.az/news.php?id=65577</td>\n",
       "    </tr>\n",
       "    <tr>\n",
       "      <th>4</th>\n",
       "      <td>Times.am | Բաց և թափանցիկ համացանցային հարթակ\\...</td>\n",
       "      <td>2017-06-28 20:54:07</td>\n",
       "      <td>http://blog.times.am/?p=203219&amp;l=am</td>\n",
       "    </tr>\n",
       "    <tr>\n",
       "      <th>...</th>\n",
       "      <td>...</td>\n",
       "      <td>...</td>\n",
       "      <td>...</td>\n",
       "    </tr>\n",
       "    <tr>\n",
       "      <th>151342</th>\n",
       "      <td>TAP çərçivəsində Albaniyada 12 kilometr borula...</td>\n",
       "      <td>2017-01-24 17:22:58</td>\n",
       "      <td>http://azertag.az/xeber/TAP_cherchivesinde_Alb...</td>\n",
       "    </tr>\n",
       "    <tr>\n",
       "      <th>151343</th>\n",
       "      <td>Maraqlı &gt; Dünya dilləri haqqında 25 maraqlı fa...</td>\n",
       "      <td>2020-05-30 04:32:39</td>\n",
       "      <td>http://www.cazibe.info/maraqli/dunya-dilleri-h...</td>\n",
       "    </tr>\n",
       "    <tr>\n",
       "      <th>151344</th>\n",
       "      <td>Valyuta məzənnəsi BƏƏ dirhəmi (AED) Qədər Tuni...</td>\n",
       "      <td>2019-10-18 04:08:22</td>\n",
       "      <td>https://az.moneyratestoday.com/forex-AED-TND.html</td>\n",
       "    </tr>\n",
       "    <tr>\n",
       "      <th>151345</th>\n",
       "      <td>29-30 noyabr 2012, TÜRKPA Baş Katibi cənab Ram...</td>\n",
       "      <td>2020-08-08 19:59:01</td>\n",
       "      <td>https://turk-pa.org/az/archive/id539</td>\n",
       "    </tr>\n",
       "    <tr>\n",
       "      <th>151346</th>\n",
       "      <td>VӘHHABİ ӘQİDӘSİNӘ ӘQLİ BİR BAXIŞ ÜCÜNCÜ CILD -...</td>\n",
       "      <td>2017-08-24 03:13:40</td>\n",
       "      <td>http://shia.spb.ru/ru/publ/info/225</td>\n",
       "    </tr>\n",
       "  </tbody>\n",
       "</table>\n",
       "<p>1571171 rows × 3 columns</p>\n",
       "</div>"
      ],
      "text/plain": [
       "                                                     text           timestamp  \\\n",
       "0       Mühacirət mövzusunun öyrənilməsi ictimai-siyas... 2019-01-23 08:22:09   \n",
       "1       ﻿ Lurer.com | Յուրի Խաչատուրովն ասել է, որ չի ... 2019-04-25 08:32:04   \n",
       "2       Xiaomi Mi 8 Lite 128 GB Siyah Dist Dual Sim Ce... 2019-09-22 20:17:05   \n",
       "3       Palitra qəzetiSərnişin avtobuslarını çirkləndi... 2019-09-19 06:37:08   \n",
       "4       Times.am | Բաց և թափանցիկ համացանցային հարթակ\\... 2017-06-28 20:54:07   \n",
       "...                                                   ...                 ...   \n",
       "151342  TAP çərçivəsində Albaniyada 12 kilometr borula... 2017-01-24 17:22:58   \n",
       "151343  Maraqlı > Dünya dilləri haqqında 25 maraqlı fa... 2020-05-30 04:32:39   \n",
       "151344  Valyuta məzənnəsi BƏƏ dirhəmi (AED) Qədər Tuni... 2019-10-18 04:08:22   \n",
       "151345  29-30 noyabr 2012, TÜRKPA Baş Katibi cənab Ram... 2020-08-08 19:59:01   \n",
       "151346  VӘHHABİ ӘQİDӘSİNӘ ӘQLİ BİR BAXIŞ ÜCÜNCÜ CILD -... 2017-08-24 03:13:40   \n",
       "\n",
       "                                                      url  \n",
       "0       https://azertag.az/xeber/Muhaciret_movzusunun_...  \n",
       "1                        https://lurer.com/?p=295680&l=am  \n",
       "2       https://www.istanbulbilisim.com/xiaomi-mi-8-li...  \n",
       "3             http://www.palitranews.az/news.php?id=65577  \n",
       "4                     http://blog.times.am/?p=203219&l=am  \n",
       "...                                                   ...  \n",
       "151342  http://azertag.az/xeber/TAP_cherchivesinde_Alb...  \n",
       "151343  http://www.cazibe.info/maraqli/dunya-dilleri-h...  \n",
       "151344  https://az.moneyratestoday.com/forex-AED-TND.html  \n",
       "151345               https://turk-pa.org/az/archive/id539  \n",
       "151346                http://shia.spb.ru/ru/publ/info/225  \n",
       "\n",
       "[1571171 rows x 3 columns]"
      ]
     },
     "execution_count": 5,
     "metadata": {},
     "output_type": "execute_result"
    }
   ],
   "source": [
    "d"
   ]
  },
  {
   "cell_type": "code",
   "execution_count": 6,
   "id": "c5030524-9195-4fac-bf40-eda77056494b",
   "metadata": {},
   "outputs": [],
   "source": [
    "texts = list(d['text'])"
   ]
  },
  {
   "cell_type": "code",
   "execution_count": 10,
   "id": "17896e2d-50c5-4065-be65-75988da4dc8a",
   "metadata": {},
   "outputs": [
    {
     "name": "stderr",
     "output_type": "stream",
     "text": [
      "Counting sentences: 100%|██████████| 1571171/1571171 [01:04<00:00, 24484.18it/s]"
     ]
    },
    {
     "name": "stdout",
     "output_type": "stream",
     "text": [
      "                                                     text           timestamp  \\\n",
      "0       Mühacirət mövzusunun öyrənilməsi ictimai-siyas... 2019-01-23 08:22:09   \n",
      "1       ﻿ Lurer.com | Յուրի Խաչատուրովն ասել է, որ չի ... 2019-04-25 08:32:04   \n",
      "2       Xiaomi Mi 8 Lite 128 GB Siyah Dist Dual Sim Ce... 2019-09-22 20:17:05   \n",
      "3       Palitra qəzetiSərnişin avtobuslarını çirkləndi... 2019-09-19 06:37:08   \n",
      "4       Times.am | Բաց և թափանցիկ համացանցային հարթակ\\... 2017-06-28 20:54:07   \n",
      "...                                                   ...                 ...   \n",
      "151342  TAP çərçivəsində Albaniyada 12 kilometr borula... 2017-01-24 17:22:58   \n",
      "151343  Maraqlı > Dünya dilləri haqqında 25 maraqlı fa... 2020-05-30 04:32:39   \n",
      "151344  Valyuta məzənnəsi BƏƏ dirhəmi (AED) Qədər Tuni... 2019-10-18 04:08:22   \n",
      "151345  29-30 noyabr 2012, TÜRKPA Baş Katibi cənab Ram... 2020-08-08 19:59:01   \n",
      "151346  VӘHHABİ ӘQİDӘSİNӘ ӘQLİ BİR BAXIŞ ÜCÜNCÜ CILD -... 2017-08-24 03:13:40   \n",
      "\n",
      "                                                      url  sentence_count  \n",
      "0       https://azertag.az/xeber/Muhaciret_movzusunun_...              14  \n",
      "1                        https://lurer.com/?p=295680&l=am              12  \n",
      "2       https://www.istanbulbilisim.com/xiaomi-mi-8-li...               1  \n",
      "3             http://www.palitranews.az/news.php?id=65577               3  \n",
      "4                     http://blog.times.am/?p=203219&l=am               1  \n",
      "...                                                   ...             ...  \n",
      "151342  http://azertag.az/xeber/TAP_cherchivesinde_Alb...               9  \n",
      "151343  http://www.cazibe.info/maraqli/dunya-dilleri-h...              18  \n",
      "151344  https://az.moneyratestoday.com/forex-AED-TND.html              17  \n",
      "151345               https://turk-pa.org/az/archive/id539               1  \n",
      "151346                http://shia.spb.ru/ru/publ/info/225            1135  \n",
      "\n",
      "[1571171 rows x 4 columns]\n",
      "Total sentence count: 29913928\n"
     ]
    },
    {
     "name": "stderr",
     "output_type": "stream",
     "text": [
      "\n"
     ]
    }
   ],
   "source": [
    "import pandas as pd\n",
    "import re\n",
    "from tqdm import tqdm\n",
    "\n",
    "df = d\n",
    "\n",
    "# Regular expression pattern to split the string by '.', '?', and '!', considering multiple spaces or newlines\n",
    "pattern = r'(?<=[.!?])\\s+'\n",
    "\n",
    "# Function to count sentences in a given text\n",
    "def count_sentences(text):\n",
    "    sentences = re.split(pattern, text)\n",
    "    return len(sentences)\n",
    "\n",
    "# Apply the sentence count function to the 'text' column with progress tracking\n",
    "tqdm.pandas(desc=\"Counting sentences\")\n",
    "df['sentence_count'] = df['text'].progress_apply(count_sentences)\n",
    "\n",
    "# Sum all sentence counts\n",
    "total_sentence_count = df['sentence_count'].sum()\n",
    "\n",
    "# Print the DataFrame and the total sentence count\n",
    "print(df)\n",
    "print(f\"Total sentence count: {total_sentence_count}\")\n"
   ]
  },
  {
   "cell_type": "code",
   "execution_count": 11,
   "id": "45bd0c6d-84d3-4344-99d3-097f3e4a0556",
   "metadata": {},
   "outputs": [
    {
     "name": "stderr",
     "output_type": "stream",
     "text": [
      "Counting words: 100%|██████████████| 1571171/1571171 [02:20<00:00, 11221.85it/s]"
     ]
    },
    {
     "name": "stdout",
     "output_type": "stream",
     "text": [
      "Total word count: 547797620\n"
     ]
    },
    {
     "name": "stderr",
     "output_type": "stream",
     "text": [
      "\n"
     ]
    }
   ],
   "source": [
    "def count_words(text):\n",
    "    words = re.findall(r'\\b\\w+\\b', text)\n",
    "    return len(words)\n",
    "\n",
    "# Apply the word count function to the 'text' column with progress tracking\n",
    "tqdm.pandas(desc=\"Counting words\")\n",
    "df['word_count'] = df['text'].progress_apply(count_words)\n",
    "\n",
    "# Sum all word counts\n",
    "total_word_count = df['word_count'].sum()\n",
    "\n",
    "print(f\"Total word count: {total_word_count}\")"
   ]
  }
 ],
 "metadata": {
  "kernelspec": {
   "display_name": "Python 3 (ipykernel)",
   "language": "python",
   "name": "python3"
  },
  "language_info": {
   "codemirror_mode": {
    "name": "ipython",
    "version": 3
   },
   "file_extension": ".py",
   "mimetype": "text/x-python",
   "name": "python",
   "nbconvert_exporter": "python",
   "pygments_lexer": "ipython3",
   "version": "3.11.8"
  }
 },
 "nbformat": 4,
 "nbformat_minor": 5
}
